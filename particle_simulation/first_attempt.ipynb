{
 "cells": [
  {
   "cell_type": "markdown",
   "metadata": {},
   "source": [
    "ideas and base taken from lukepolson"
   ]
  },
  {
   "cell_type": "code",
   "execution_count": 11,
   "metadata": {},
   "outputs": [],
   "source": [
    "#importing relevant packages\n",
    "\n",
    "import numpy as np\n",
    "import matplotlib.pyplot as plt\n",
    "import matplotlib\n",
    "from matplotlib import animation\n",
    "from matplotlib.animation import PillowWriter\n",
    "import scienceplots\n",
    "plt.style.use(['science', 'notebook'])\n",
    "from itertools import combinations"
   ]
  },
  {
   "cell_type": "markdown",
   "metadata": {},
   "source": [
    "Want to get particles and randomise their initial positions"
   ]
  },
  {
   "cell_type": "code",
   "execution_count": 14,
   "metadata": {},
   "outputs": [],
   "source": [
    "n_particles = 10\n",
    "r = np.random.random((2,n_particles)) # x and y positions between 0 and 1\n",
    "ixr = r[0]>0.5#these particles with true start on the right\n",
    "ixl = r[0]<=0.5#these ones start on the left\n"
   ]
  },
  {
   "cell_type": "markdown",
   "metadata": {},
   "source": [
    "Assign IDs to particle to later call them"
   ]
  },
  {
   "cell_type": "code",
   "execution_count": 15,
   "metadata": {},
   "outputs": [
    {
     "data": {
      "text/plain": [
       "array([0, 1, 2, 3, 4, 5, 6, 7, 8, 9])"
      ]
     },
     "execution_count": 15,
     "metadata": {},
     "output_type": "execute_result"
    }
   ],
   "source": [
    "ids = np.arange(n_particles)\n",
    "ids"
   ]
  },
  {
   "cell_type": "code",
   "execution_count": 23,
   "metadata": {},
   "outputs": [
    {
     "data": {
      "text/plain": [
       "<matplotlib.collections.PathCollection at 0x2086bfeefa0>"
      ]
     },
     "execution_count": 23,
     "metadata": {},
     "output_type": "execute_result"
    },
    {
     "data": {
      "image/png": "[encoded data removed]",
      "text/plain": [
       "<Figure size 400x400 with 1 Axes>"
      ]
     },
     "metadata": {},
     "output_type": "display_data"
    }
   ],
   "source": [
    "#plot the initial positions of all the particles\n",
    "plt.figure(figsize = (4,4))\n",
    "plt.scatter(r[0][ixr], r[1][ixr], color = 'r', s = 15) # plots the x and y position and accesses the particles where the value of ixr is true\n",
    "plt.scatter(r[0][ixl], r[1][ixl], color = 'b', s = 15)"
   ]
  },
  {
   "cell_type": "markdown",
   "metadata": {},
   "source": [
    "Set the initial velocities in the gas. particles on the right move to the LHS and vice versa. Speeds = 500 m/s"
   ]
  },
  {
   "cell_type": "code",
   "execution_count": 27,
   "metadata": {},
   "outputs": [],
   "source": [
    "v = np.zeros((2, n_particles))\n",
    "v[0][ixr] = -500\n",
    "v[0][ixl] = 500"
   ]
  },
  {
   "cell_type": "markdown",
   "metadata": {},
   "source": [
    "Need to know what the velocities of particles will be after colliding with each other.\n",
    "\n",
    "Firstly, need to find the distances beetween all the pairs of particles, if the distance is < 2 * radius of the particles, they collide. If there are n particles, there are n(n-1)/2 pairs of particles"
   ]
  },
  {
   "cell_type": "code",
   "execution_count": 31,
   "metadata": {},
   "outputs": [
    {
     "data": {
      "text/plain": [
       "array([0, 0, 0, 0, 0, 0, 0, 0, 0, 1, 1, 1, 1, 1, 1, 1, 1, 2, 2, 2, 2, 2,\n",
       "       2, 2, 3, 3, 3, 3, 3, 3, 4, 4, 4, 4, 4, 5, 5, 5, 5, 6, 6, 6, 7, 7,\n",
       "       8])"
      ]
     },
     "execution_count": 31,
     "metadata": {},
     "output_type": "execute_result"
    }
   ],
   "source": [
    "#get pairs of ids of particles\n",
    "ids_pairs = np.asarray(list(combinations(ids,2)))\n",
    "ids_pairs[:,0]"
   ]
  },
  {
   "cell_type": "markdown",
   "metadata": {},
   "source": [
    "Can get pairs of distances as well"
   ]
  },
  {
   "cell_type": "code",
   "execution_count": 37,
   "metadata": {},
   "outputs": [
    {
     "data": {
      "text/plain": [
       "array([[0.22179774, 0.30798306],\n",
       "       [0.22179774, 0.03243915],\n",
       "       [0.22179774, 0.96488068],\n",
       "       [0.22179774, 0.06171583],\n",
       "       [0.22179774, 0.40866954],\n",
       "       [0.22179774, 0.10711478],\n",
       "       [0.22179774, 0.6381723 ],\n",
       "       [0.22179774, 0.07243474],\n",
       "       [0.22179774, 0.86803389],\n",
       "       [0.30798306, 0.03243915],\n",
       "       [0.30798306, 0.96488068],\n",
       "       [0.30798306, 0.06171583],\n",
       "       [0.30798306, 0.40866954],\n",
       "       [0.30798306, 0.10711478],\n",
       "       [0.30798306, 0.6381723 ],\n",
       "       [0.30798306, 0.07243474],\n",
       "       [0.30798306, 0.86803389],\n",
       "       [0.03243915, 0.96488068],\n",
       "       [0.03243915, 0.06171583],\n",
       "       [0.03243915, 0.40866954],\n",
       "       [0.03243915, 0.10711478],\n",
       "       [0.03243915, 0.6381723 ],\n",
       "       [0.03243915, 0.07243474],\n",
       "       [0.03243915, 0.86803389],\n",
       "       [0.96488068, 0.06171583],\n",
       "       [0.96488068, 0.40866954],\n",
       "       [0.96488068, 0.10711478],\n",
       "       [0.96488068, 0.6381723 ],\n",
       "       [0.96488068, 0.07243474],\n",
       "       [0.96488068, 0.86803389],\n",
       "       [0.06171583, 0.40866954],\n",
       "       [0.06171583, 0.10711478],\n",
       "       [0.06171583, 0.6381723 ],\n",
       "       [0.06171583, 0.07243474],\n",
       "       [0.06171583, 0.86803389],\n",
       "       [0.40866954, 0.10711478],\n",
       "       [0.40866954, 0.6381723 ],\n",
       "       [0.40866954, 0.07243474],\n",
       "       [0.40866954, 0.86803389],\n",
       "       [0.10711478, 0.6381723 ],\n",
       "       [0.10711478, 0.07243474],\n",
       "       [0.10711478, 0.86803389],\n",
       "       [0.6381723 , 0.07243474],\n",
       "       [0.6381723 , 0.86803389],\n",
       "       [0.07243474, 0.86803389]])"
      ]
     },
     "execution_count": 37,
     "metadata": {},
     "output_type": "execute_result"
    }
   ],
   "source": [
    "x_pairs = np.array([r[0][ids_pairs[:,0]], r[0][ids_pairs[:,1]]]).T # this gets the x positions of each of the particles in a pair, the Transpose makes it columnised\n",
    "x_pairs"
   ]
  },
  {
   "cell_type": "markdown",
   "metadata": {},
   "source": [
    "delta x is the difference between the particle x positions"
   ]
  },
  {
   "cell_type": "code",
   "execution_count": 45,
   "metadata": {},
   "outputs": [
    {
     "data": {
      "text/plain": [
       "array([ 0.08618532, -0.1893586 ,  0.74308294, -0.16008191,  0.1868718 ,\n",
       "       -0.11468296,  0.41637456, -0.149363  ,  0.64623615, -0.27554392,\n",
       "        0.65689762, -0.24626723,  0.10068648, -0.20086828,  0.33018924,\n",
       "       -0.23554832,  0.56005083,  0.93244153,  0.02927669,  0.3762304 ,\n",
       "        0.07467563,  0.60573316,  0.0399956 ,  0.83559474, -0.90316485,\n",
       "       -0.55621114, -0.8577659 , -0.32670838, -0.89244594, -0.09684679,\n",
       "        0.34695371,  0.04539895,  0.57645647,  0.01071891,  0.80631806,\n",
       "       -0.30155476,  0.22950276, -0.3362348 ,  0.45936435,  0.53105752,\n",
       "       -0.03468004,  0.76091911, -0.56573756,  0.22986159,  0.79559915])"
      ]
     },
     "execution_count": 45,
     "metadata": {},
     "output_type": "execute_result"
    }
   ],
   "source": [
    "dx_pairs = np.diff(x_pairs, axis = 1).ravel() # ravel flattens into a single array\n",
    "dx_pairs"
   ]
  },
  {
   "cell_type": "markdown",
   "metadata": {},
   "source": [
    "Euclidean distance for x and y coordinates between particles"
   ]
  },
  {
   "cell_type": "code",
   "execution_count": 47,
   "metadata": {},
   "outputs": [
    {
     "data": {
      "text/plain": [
       "array([0.44263381, 0.40646525, 0.75073607, 0.57995805, 0.65505388,\n",
       "       0.92429697, 0.77905953, 0.15759896, 1.08939566, 0.28543757,\n",
       "       0.73389396, 0.27539395, 0.21828018, 0.52309639, 0.39916567,\n",
       "       0.45038668, 0.71398797, 0.96608743, 0.19991974, 0.46202238,\n",
       "       0.56247103, 0.67541898, 0.31195683, 0.98278975, 1.00928755,\n",
       "       0.76204914, 1.17993164, 0.6410375 , 0.89424161, 0.77616208,\n",
       "       0.35402525, 0.36258088, 0.58524279, 0.50726003, 0.86734508,\n",
       "       0.41790214, 0.23153693, 0.66829708, 0.52259832, 0.59071689,\n",
       "       0.86756763, 0.7619769 , 0.83062507, 0.3171836 , 1.14737703])"
      ]
     },
     "execution_count": 47,
     "metadata": {},
     "output_type": "execute_result"
    }
   ],
   "source": [
    "x_pairs = np.array([r[0][ids_pairs[:,0]], r[0][ids_pairs[:,1]]]).T\n",
    "y_pairs = np.array([r[1][ids_pairs[:,0]], r[1][ids_pairs[:,1]]]).T\n",
    "dx_pairs = np.diff(x_pairs, axis =1).ravel()\n",
    "dy_pairs = np.diff(y_pairs, axis =1).ravel()\n",
    "d_pairs = np.sqrt(dx_pairs**2 + dy_pairs**2)\n",
    "d_pairs"
   ]
  },
  {
   "cell_type": "markdown",
   "metadata": {
    "vscode": {
     "languageId": "raw"
    }
   },
   "source": [
    "Each iterations will find the d_pairs and if the distance between any is < 2r, we have a collision so need to find the new velocities of them. Elastic collision equations are below\n",
    "\n",
    "$$\n",
    "\\vec{v}_1^{\\text{new}} = \\vec{v}_1 - \\frac{(\\vec{v}_1 - \\vec{v}_2) \\cdot (\\vec{r}_1 - \\vec{r}_2)}{|\\vec{r}_1 - \\vec{r}_2|^2} (\\vec{r}_1 - \\vec{r}_2)\n",
    "$$\n",
    "\n",
    "$$\n",
    "\\vec{v}_2^{\\text{new}} = \\vec{v}_2 - \\frac{(\\vec{v}_2 - \\vec{v}_1) \\cdot (\\vec{r}_2 - \\vec{r}_1)}{|\\vec{r}_2 - \\vec{r}_1|^2} (\\vec{r}_2 - \\vec{r}_1)\n",
    "$$\n"
   ]
  },
  {
   "cell_type": "code",
   "execution_count": 50,
   "metadata": {},
   "outputs": [
    {
     "data": {
      "text/plain": [
       "array([[0, 8],\n",
       "       [1, 2],\n",
       "       [1, 4],\n",
       "       [1, 5],\n",
       "       [2, 4],\n",
       "       [5, 7]])"
      ]
     },
     "execution_count": 50,
     "metadata": {},
     "output_type": "execute_result"
    }
   ],
   "source": [
    "radius = 0.15 # same as size set in the plot\n",
    "ids_pairs_collide = ids_pairs[d_pairs < 2*radius] # isolates the pairs which would collide\n",
    "ids_pairs_collide"
   ]
  },
  {
   "cell_type": "code",
   "execution_count": 56,
   "metadata": {},
   "outputs": [],
   "source": [
    "#left column particles = 1 and right column particles = 2\n",
    "v1 = v[:, ids_pairs_collide[:,0]] # x and y velocities of particle 1s\n",
    "v2 = v[:, ids_pairs_collide[:,1]] # x and y velocities of particle 2s\n",
    "r1 = r[:,ids_pairs_collide[:,0]] # x and y positions of particle 1s\n",
    "r2 = r[:, ids_pairs_collide[:,1]] # x and y positions of particle 2s\n"
   ]
  },
  {
   "cell_type": "code",
   "execution_count": 58,
   "metadata": {},
   "outputs": [
    {
     "data": {
      "text/plain": [
       "array([[ 500.        ,  500.        ,  500.        ,  500.        ,\n",
       "         500.        , -482.5061474 ],\n",
       "       [   0.        ,    0.        ,    0.        ,    0.        ,\n",
       "           0.        , -131.10231777]])"
      ]
     },
     "execution_count": 58,
     "metadata": {},
     "output_type": "execute_result"
    }
   ],
   "source": [
    "#Compute new velocities\n",
    "v1_new = v1 - ((v1 - v2) * (r1 - r2)).sum(axis = 0)/np.sum((r1 - r2) ** 2, axis = 0) * (r1 - r2)\n",
    "v2_new = v2 - ((v2 - v1) * (r2 - r1)).sum(axis = 0)/np.sum((r2 - r1)**2, axis = 0) * (r2 - r1)\n",
    "\n",
    "v1_new #new x and y velocities of the particles that collided"
   ]
  },
  {
   "cell_type": "code",
   "execution_count": null,
   "metadata": {},
   "outputs": [],
   "source": [
    "#making functions which make running the simulation easier\n",
    "\n",
    "def get_delta_pairs"
   ]
  }
 ],
 "metadata": {
  "kernelspec": {
   "display_name": ".venv",
   "language": "python",
   "name": "python3"
  },
  "language_info": {
   "codemirror_mode": {
    "name": "ipython",
    "version": 3
   },
   "file_extension": ".py",
   "mimetype": "text/x-python",
   "name": "python",
   "nbconvert_exporter": "python",
   "pygments_lexer": "ipython3",
   "version": "3.9.7"
  }
 },
 "nbformat": 4,
 "nbformat_minor": 2
}
